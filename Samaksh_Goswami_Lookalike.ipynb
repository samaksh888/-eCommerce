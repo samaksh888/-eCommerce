{
  "nbformat": 4,
  "nbformat_minor": 0,
  "metadata": {
    "colab": {
      "provenance": []
    },
    "kernelspec": {
      "name": "python3",
      "display_name": "Python 3"
    },
    "language_info": {
      "name": "python"
    }
  },
  "cells": [
    {
      "cell_type": "code",
      "source": [
        "import pandas as pd\n",
        "from sklearn.metrics.pairwise import cosine_similarity"
      ],
      "metadata": {
        "id": "F9g8Q_L7btTP"
      },
      "execution_count": 9,
      "outputs": []
    },
    {
      "cell_type": "code",
      "execution_count": 11,
      "metadata": {
        "id": "pTOKiTK_aPr5"
      },
      "outputs": [],
      "source": [
        "customers=pd.read_csv('/content/Customers.csv')\n",
        "products=pd.read_csv('/content/Products.csv')\n",
        "transactions=pd.read_csv('/content/Transactions.csv')"
      ]
    },
    {
      "cell_type": "code",
      "source": [
        "customer_product_matrix = pd.pivot_table(\n",
        "    transactions,\n",
        "    values='Quantity',\n",
        "    index='CustomerID',\n",
        "    columns='ProductID',\n",
        "    fill_value=0\n",
        ")"
      ],
      "metadata": {
        "id": "6eEuAoWLa0pD"
      },
      "execution_count": 12,
      "outputs": []
    },
    {
      "cell_type": "code",
      "source": [
        "similarity_matrix = cosine_similarity(customer_product_matrix)"
      ],
      "metadata": {
        "id": "MAKoh71Nbwzi"
      },
      "execution_count": 13,
      "outputs": []
    },
    {
      "cell_type": "code",
      "source": [
        "similarity_df = pd.DataFrame(\n",
        "    similarity_matrix,\n",
        "    index=customer_product_matrix.index,\n",
        "    columns=customer_product_matrix.index\n",
        ")\n"
      ],
      "metadata": {
        "id": "0ttre5nDcBLX"
      },
      "execution_count": 14,
      "outputs": []
    },
    {
      "cell_type": "code",
      "source": [
        "def get_top_lookalikes(customer_id, top_n=3):\n",
        "    \"\"\"Returns the top N lookalikes for a given customer.\"\"\"\n",
        "\n",
        "    # Get similarity scores for the given customer\n",
        "    similarity_scores = similarity_df.loc[customer_id].sort_values(ascending=False)\n",
        "\n",
        "    # Exclude the customer itself\n",
        "    similarity_scores = similarity_scores.drop(customer_id)\n",
        "\n",
        "    # Get the top N lookalikes\n",
        "    top_lookalikes = similarity_scores.head(top_n)\n",
        "\n",
        "    # Return as a list of (customer_id, score) tuples\n",
        "    return list(top_lookalikes.items())"
      ],
      "metadata": {
        "id": "5zyody5CcHLw"
      },
      "execution_count": 15,
      "outputs": []
    },
    {
      "cell_type": "code",
      "source": [
        "recommendations = {}\n",
        "for customer_id in customers['CustomerID'][:20]:\n",
        "    recommendations[customer_id] = get_top_lookalikes(customer_id)"
      ],
      "metadata": {
        "id": "VNHMGnJkcLVH"
      },
      "execution_count": 16,
      "outputs": []
    },
    {
      "cell_type": "code",
      "source": [
        "import csv\n",
        "\n",
        "with open('Lookalike.csv', 'w', newline='') as csvfile:\n",
        "    writer = csv.writer(csvfile)\n",
        "    writer.writerow(['CustomerID', 'Lookalikes'])  # Header row\n",
        "    for customer_id, lookalikes in recommendations.items():\n",
        "        writer.writerow([customer_id, lookalikes])"
      ],
      "metadata": {
        "id": "J1qBFG9AcSd2"
      },
      "execution_count": 17,
      "outputs": []
    },
    {
      "cell_type": "code",
      "source": [
        "for customer_id, lookalikes in recommendations.items():\n",
        "    print(f\"Customer: {customer_id}\")\n",
        "    for lookalike_id, score in lookalikes:\n",
        "        print(f\"  Lookalike: {lookalike_id}, Similarity: {score:.4f}\")\n",
        "    print(\"-\" * 20)"
      ],
      "metadata": {
        "colab": {
          "base_uri": "https://localhost:8080/"
        },
        "id": "z6sZcACkcWcB",
        "outputId": "48adc794-d1e8-4195-a671-26f60f5cb3e5"
      },
      "execution_count": 18,
      "outputs": [
        {
          "output_type": "stream",
          "name": "stdout",
          "text": [
            "Customer: C0001\n",
            "  Lookalike: C0097, Similarity: 0.5477\n",
            "  Lookalike: C0194, Similarity: 0.4697\n",
            "  Lookalike: C0199, Similarity: 0.4382\n",
            "--------------------\n",
            "Customer: C0002\n",
            "  Lookalike: C0091, Similarity: 0.3802\n",
            "  Lookalike: C0030, Similarity: 0.3728\n",
            "  Lookalike: C0071, Similarity: 0.3299\n",
            "--------------------\n",
            "Customer: C0003\n",
            "  Lookalike: C0134, Similarity: 0.5199\n",
            "  Lookalike: C0181, Similarity: 0.5176\n",
            "  Lookalike: C0144, Similarity: 0.4000\n",
            "--------------------\n",
            "Customer: C0004\n",
            "  Lookalike: C0070, Similarity: 0.4989\n",
            "  Lookalike: C0132, Similarity: 0.3843\n",
            "  Lookalike: C0063, Similarity: 0.3361\n",
            "--------------------\n",
            "Customer: C0005\n",
            "  Lookalike: C0096, Similarity: 0.6482\n",
            "  Lookalike: C0055, Similarity: 0.5145\n",
            "  Lookalike: C0064, Similarity: 0.3329\n",
            "--------------------\n",
            "Customer: C0006\n",
            "  Lookalike: C0058, Similarity: 0.6489\n",
            "  Lookalike: C0040, Similarity: 0.5804\n",
            "  Lookalike: C0196, Similarity: 0.4643\n",
            "--------------------\n",
            "Customer: C0007\n",
            "  Lookalike: C0020, Similarity: 0.5883\n",
            "  Lookalike: C0079, Similarity: 0.4961\n",
            "  Lookalike: C0026, Similarity: 0.3631\n",
            "--------------------\n",
            "Customer: C0008\n",
            "  Lookalike: C0144, Similarity: 0.3922\n",
            "  Lookalike: C0088, Similarity: 0.3397\n",
            "  Lookalike: C0165, Similarity: 0.3214\n",
            "--------------------\n",
            "Customer: C0009\n",
            "  Lookalike: C0140, Similarity: 0.5601\n",
            "  Lookalike: C0162, Similarity: 0.5133\n",
            "  Lookalike: C0129, Similarity: 0.4288\n",
            "--------------------\n",
            "Customer: C0010\n",
            "  Lookalike: C0033, Similarity: 0.4867\n",
            "  Lookalike: C0077, Similarity: 0.4248\n",
            "  Lookalike: C0094, Similarity: 0.4059\n",
            "--------------------\n",
            "Customer: C0011\n",
            "  Lookalike: C0135, Similarity: 0.4842\n",
            "  Lookalike: C0120, Similarity: 0.3568\n",
            "  Lookalike: C0173, Similarity: 0.3308\n",
            "--------------------\n",
            "Customer: C0012\n",
            "  Lookalike: C0101, Similarity: 0.4438\n",
            "  Lookalike: C0066, Similarity: 0.3962\n",
            "  Lookalike: C0052, Similarity: 0.3671\n",
            "--------------------\n",
            "Customer: C0013\n",
            "  Lookalike: C0058, Similarity: 0.5345\n",
            "  Lookalike: C0040, Similarity: 0.4781\n",
            "  Lookalike: C0169, Similarity: 0.4410\n",
            "--------------------\n",
            "Customer: C0014\n",
            "  Lookalike: C0128, Similarity: 0.8944\n",
            "  Lookalike: C0159, Similarity: 0.7845\n",
            "  Lookalike: C0136, Similarity: 0.4619\n",
            "--------------------\n",
            "Customer: C0015\n",
            "  Lookalike: C0073, Similarity: 0.6325\n",
            "  Lookalike: C0036, Similarity: 0.6068\n",
            "  Lookalike: C0059, Similarity: 0.4568\n",
            "--------------------\n",
            "Customer: C0016\n",
            "  Lookalike: C0187, Similarity: 0.6449\n",
            "  Lookalike: C0052, Similarity: 0.5203\n",
            "  Lookalike: C0064, Similarity: 0.4611\n",
            "--------------------\n",
            "Customer: C0017\n",
            "  Lookalike: C0037, Similarity: 0.3989\n",
            "  Lookalike: C0071, Similarity: 0.3849\n",
            "  Lookalike: C0183, Similarity: 0.3457\n",
            "--------------------\n",
            "Customer: C0018\n",
            "  Lookalike: C0177, Similarity: 0.3939\n",
            "  Lookalike: C0064, Similarity: 0.3567\n",
            "  Lookalike: C0081, Similarity: 0.3503\n",
            "--------------------\n",
            "Customer: C0019\n",
            "  Lookalike: C0083, Similarity: 0.4899\n",
            "  Lookalike: C0064, Similarity: 0.4880\n",
            "  Lookalike: C0039, Similarity: 0.4648\n",
            "--------------------\n",
            "Customer: C0020\n",
            "  Lookalike: C0026, Similarity: 0.6172\n",
            "  Lookalike: C0007, Similarity: 0.5883\n",
            "  Lookalike: C0104, Similarity: 0.4887\n",
            "--------------------\n"
          ]
        }
      ]
    }
  ]
}